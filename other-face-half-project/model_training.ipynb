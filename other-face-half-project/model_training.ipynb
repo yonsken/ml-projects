{
 "metadata": {
  "language_info": {
   "codemirror_mode": {
    "name": "ipython",
    "version": 3
   },
   "file_extension": ".py",
   "mimetype": "text/x-python",
   "name": "python",
   "nbconvert_exporter": "python",
   "pygments_lexer": "ipython3",
   "version": "3.7.6-final"
  },
  "orig_nbformat": 2,
  "kernelspec": {
   "name": "python3",
   "display_name": "Python 3"
  }
 },
 "nbformat": 4,
 "nbformat_minor": 2,
 "cells": [
  {
   "source": [
    "# Predicting the right side of a face from the given left side\n",
    "## Library imports"
   ],
   "cell_type": "markdown",
   "metadata": {}
  },
  {
   "cell_type": "code",
   "execution_count": 1,
   "metadata": {
    "tags": []
   },
   "outputs": [
    {
     "output_type": "stream",
     "name": "stdout",
     "text": "TensorFlow version: 2.3.0\nNumPy version:  1.18.5\n"
    }
   ],
   "source": [
    "import tensorflow as tf\n",
    "import tensorflow_datasets as tfds\n",
    "import numpy as np\n",
    "\n",
    "print('TensorFlow version:', tf.__version__)\n",
    "print('NumPy version: ', np.__version__)"
   ]
  },
  {
   "source": [
    "## 1. Acquire a dataset for training\n",
    "CelebA is a great dataset for all kinds of faces with different features, so it only makes sense to use for training"
   ],
   "cell_type": "markdown",
   "metadata": {}
  },
  {
   "cell_type": "code",
   "execution_count": 2,
   "metadata": {
    "tags": []
   },
   "outputs": [
    {
     "output_type": "stream",
     "name": "stdout",
     "text": "dict_keys(['test', 'train', 'validation'])\n"
    }
   ],
   "source": [
    "celeba_bldr = tfds.builder('celeb_a')\n",
    "celeba_bldr.download_and_prepare()\n",
    "celeba = celeba_bldr.as_dataset(shuffle_files=False)\n",
    "print(celeba.keys())\n",
    "\n",
    "celeba_train = celeba['train']\n",
    "celeba_valid = celeba['validation']\n",
    "celeba_test = celeba['test']"
   ]
  },
  {
   "source": [
    "## 2. Define the dataset image preprocessing function"
   ],
   "cell_type": "markdown",
   "metadata": {}
  },
  {
   "cell_type": "code",
   "execution_count": 4,
   "metadata": {},
   "outputs": [],
   "source": [
    "def preprocess(example, size=(64, 64)):\n",
    "    image = example['image']\n",
    "    height, width = size\n",
    "    image_cropped = tf.image.crop_to_bounding_box(\n",
    "        image, offset_height=20, offset_width=0,\n",
    "        target_height=178, target_width=178)\n",
    "    image_resized = tf.image.resize(\n",
    "        image_cropped, size=size)\n",
    "    left_side = tf.image.crop_to_bounding_box(\n",
    "        image_resized, offset_height=0, offset_width=0,\n",
    "        target_height=height, target_width=width)\n",
    "    rigth_side = tf.image.crop_to_bounding_box(\n",
    "        image_resized, offset_height=0, offset_width=width / 2,\n",
    "        target_height=height, target_width=width)\n",
    "    return (left_side / 255.0, right_side / 255.0)"
   ]
  },
  {
   "cell_type": "code",
   "execution_count": null,
   "metadata": {},
   "outputs": [],
   "source": []
  }
 ]
}