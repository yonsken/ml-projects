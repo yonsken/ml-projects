{
  "nbformat": 4,
  "nbformat_minor": 0,
  "metadata": {
    "orig_nbformat": 2,
    "colab": {
      "name": "model-training.ipynb",
      "provenance": []
    },
    "kernelspec": {
      "name": "python3",
      "display_name": "Python 3"
    },
    "accelerator": "GPU"
  },
  "cells": [
    {
      "cell_type": "markdown",
      "metadata": {
        "id": "U0sWpkDJoc8B",
        "colab_type": "text"
      },
      "source": [
        "## Define the model architecture"
      ]
    },
    {
      "cell_type": "code",
      "metadata": {
        "id": "KTIPartpoX5o",
        "colab_type": "code",
        "colab": {
          "base_uri": "https://localhost:8080/",
          "height": 34
        },
        "outputId": "838cc791-26a0-4b96-d438-012647057648"
      },
      "source": [
        "model = tf.keras.Sequential([\n",
        "    tf.keras.layers.Conv2D(\n",
        "        32, (3, 3), padding='same', activation='relu'),\n",
        "    tf.keras.layers.MaxPooling2D((2, 2)),\n",
        "    tf.keras.layers.Dropout(rate=0.5),\n",
        "    \n",
        "    tf.keras.layers.Conv2D(\n",
        "        64, (3, 3), padding='same', activation='relu'),\n",
        "    tf.keras.layers.MaxPooling2D((2, 2)),\n",
        "    tf.keras.layers.Dropout(rate=0.5),\n",
        "    \n",
        "    tf.keras.layers.Conv2D(\n",
        "        128, (3, 3), padding='same', activation='relu'),\n",
        "    tf.keras.layers.MaxPooling2D((2, 2)),\n",
        "    \n",
        "    tf.keras.layers.Conv2D(\n",
        "        256, (3, 3), padding='same', activation='relu'),\n",
        "    tf.keras.layers.MaxPooling2D((2, 2)),\n",
        "])\n",
        "\n",
        "model.compute_output_shape(input_shape=(None, 64, 64, 3))"
      ],
      "execution_count": 7,
      "outputs": [
        {
          "output_type": "execute_result",
          "data": {
            "text/plain": [
              "TensorShape([None, 4, 4, 256])"
            ]
          },
          "metadata": {
            "tags": []
          },
          "execution_count": 7
        }
      ]
    },
    {
      "cell_type": "code",
      "metadata": {
        "id": "WhaeUS3Toonv",
        "colab_type": "code",
        "colab": {
          "base_uri": "https://localhost:8080/",
          "height": 34
        },
        "outputId": "3b6ef0ed-9ea7-4926-e062-8c88bed40df8"
      },
      "source": [
        "model.add(tf.keras.layers.Flatten())\n",
        "model.compute_output_shape(input_shape=(None, 64, 64, 3))"
      ],
      "execution_count": 8,
      "outputs": [
        {
          "output_type": "execute_result",
          "data": {
            "text/plain": [
              "TensorShape([None, 4096])"
            ]
          },
          "metadata": {
            "tags": []
          },
          "execution_count": 8
        }
      ]
    },
    {
      "cell_type": "code",
      "metadata": {
        "id": "QUeb8KL_oz4J",
        "colab_type": "code",
        "colab": {
          "base_uri": "https://localhost:8080/",
          "height": 34
        },
        "outputId": "d223e287-bdc0-4746-d304-d06053ca6574"
      },
      "source": [
        "model.add(tf.keras.layers.Dense(\n",
        "    units=2048, activation='relu'))\n",
        "model.compute_output_shape(input_shape=(None, 64, 64, 3))"
      ],
      "execution_count": 9,
      "outputs": [
        {
          "output_type": "execute_result",
          "data": {
            "text/plain": [
              "TensorShape([None, 2048])"
            ]
          },
          "metadata": {
            "tags": []
          },
          "execution_count": 9
        }
      ]
    },
    {
      "cell_type": "code",
      "metadata": {
        "id": "06rMtEVLo6hd",
        "colab_type": "code",
        "colab": {
          "base_uri": "https://localhost:8080/",
          "height": 34
        },
        "outputId": "e7216b25-771a-4393-d039-fbf53b6908c2"
      },
      "source": [
        "model.add(tf.keras.layers.Reshape(target_shape=(4, 4, 128)))\n",
        "model.compute_output_shape(input_shape=(None, 64, 64, 3))"
      ],
      "execution_count": 10,
      "outputs": [
        {
          "output_type": "execute_result",
          "data": {
            "text/plain": [
              "TensorShape([None, 4, 4, 128])"
            ]
          },
          "metadata": {
            "tags": []
          },
          "execution_count": 10
        }
      ]
    },
    {
      "cell_type": "code",
      "metadata": {
        "id": "miexnZBHpD1u",
        "colab_type": "code",
        "colab": {
          "base_uri": "https://localhost:8080/",
          "height": 34
        },
        "outputId": "613bec49-2aef-468e-dc58-ccd3a4eb065a"
      },
      "source": [
        "model.add(tf.keras.layers.Conv2DTranspose(\n",
        "    64, (3, 3), strides=(2, 2), padding=\"same\", activation=\"relu\"))\n",
        "model.compute_output_shape(input_shape=(None, 64, 64, 3))"
      ],
      "execution_count": 11,
      "outputs": [
        {
          "output_type": "execute_result",
          "data": {
            "text/plain": [
              "TensorShape([None, 8, 8, 64])"
            ]
          },
          "metadata": {
            "tags": []
          },
          "execution_count": 11
        }
      ]
    },
    {
      "cell_type": "code",
      "metadata": {
        "id": "tydegAYbpO3x",
        "colab_type": "code",
        "colab": {
          "base_uri": "https://localhost:8080/",
          "height": 34
        },
        "outputId": "6ff9fe56-3d5d-4685-b119-7ed8a63648b1"
      },
      "source": [
        "model.add(tf.keras.layers.Conv2DTranspose(\n",
        "    32, (3, 3), strides=(2, 2), padding=\"same\", activation=\"relu\"))\n",
        "model.compute_output_shape(input_shape=(None, 64, 64, 3))"
      ],
      "execution_count": 12,
      "outputs": [
        {
          "output_type": "execute_result",
          "data": {
            "text/plain": [
              "TensorShape([None, 16, 16, 32])"
            ]
          },
          "metadata": {
            "tags": []
          },
          "execution_count": 12
        }
      ]
    },
    {
      "cell_type": "code",
      "metadata": {
        "id": "R0-wkcCBpRsf",
        "colab_type": "code",
        "colab": {
          "base_uri": "https://localhost:8080/",
          "height": 34
        },
        "outputId": "4d4ea4d0-b27f-46be-a30d-e417182c2f52"
      },
      "source": [
        "model.add(tf.keras.layers.Conv2DTranspose(\n",
        "    16, (3, 3), strides=(2, 2), padding=\"same\", activation=\"relu\"))\n",
        "model.compute_output_shape(input_shape=(None, 64, 64, 3))"
      ],
      "execution_count": 13,
      "outputs": [
        {
          "output_type": "execute_result",
          "data": {
            "text/plain": [
              "TensorShape([None, 32, 32, 16])"
            ]
          },
          "metadata": {
            "tags": []
          },
          "execution_count": 13
        }
      ]
    },
    {
      "cell_type": "code",
      "metadata": {
        "id": "XvEMeiFcpVVO",
        "colab_type": "code",
        "colab": {
          "base_uri": "https://localhost:8080/",
          "height": 34
        },
        "outputId": "44d63d8c-fba6-40f1-cb31-938de5223905"
      },
      "source": [
        "model.add(tf.keras.layers.Conv2DTranspose(\n",
        "    3, (3, 3), strides=(2, 2), padding=\"same\", activation=\"relu\"))\n",
        "model.compute_output_shape(input_shape=(None, 64, 64, 3))"
      ],
      "execution_count": 14,
      "outputs": [
        {
          "output_type": "execute_result",
          "data": {
            "text/plain": [
              "TensorShape([None, 64, 64, 3])"
            ]
          },
          "metadata": {
            "tags": []
          },
          "execution_count": 14
        }
      ]
    }
  ]
}